{
 "cells": [
  {
   "cell_type": "code",
   "execution_count": 1,
   "metadata": {},
   "outputs": [
    {
     "data": {
      "application/vnd.jupyter.widget-view+json": {
       "model_id": "5dbfdd9fca3e4cef96e3085c0f64c0b1",
       "version_major": 2,
       "version_minor": 0
      },
      "text/plain": [
       "Resolving data files:   0%|          | 0/7500 [00:00<?, ?it/s]"
      ]
     },
     "metadata": {},
     "output_type": "display_data"
    },
    {
     "data": {
      "application/vnd.jupyter.widget-view+json": {
       "model_id": "fea3f17c42274af6ad21a8cd5ff9cb87",
       "version_major": 2,
       "version_minor": 0
      },
      "text/plain": [
       "Resolving data files:   0%|          | 0/5000 [00:00<?, ?it/s]"
      ]
     },
     "metadata": {},
     "output_type": "display_data"
    },
    {
     "name": "stderr",
     "output_type": "stream",
     "text": [
      "Unused kwargs: ['_load_in_4bit', '_load_in_8bit', 'quant_method']. These kwargs are not used in <class 'transformers.utils.quantization_config.BitsAndBytesConfig'>.\n",
      "/home/ntuai/AIMO/.venv/lib/python3.10/site-packages/transformers/quantizers/auto.py:167: UserWarning: You passed `quantization_config` or equivalent parameters to `from_pretrained` but the model you're loading already has a `quantization_config` attribute. The `quantization_config` from the model will be used.\n",
      "  warnings.warn(warning_msg)\n",
      "Special tokens have been added in the vocabulary, make sure the associated word embeddings are fine-tuned or trained.\n"
     ]
    },
    {
     "data": {
      "application/vnd.jupyter.widget-view+json": {
       "model_id": "135549015c524adcaa678cf132c6c2f4",
       "version_major": 2,
       "version_minor": 0
      },
      "text/plain": [
       "Evaluating accuracy. Current accuracy: 0.00:   0%|          | 0/86 [00:00<?, ?it/s]"
      ]
     },
     "metadata": {},
     "output_type": "display_data"
    },
    {
     "name": "stderr",
     "output_type": "stream",
     "text": [
      "You seem to be using the pipelines sequentially on GPU. In order to maximize efficiency please use a dataset\n"
     ]
    }
   ],
   "source": [
    "import re\n",
    "from transformers import StoppingCriteria, StoppingCriteriaList\n",
    "from dataset import get_MATH_dataset\n",
    "from utils import get_pipe\n",
    "from evaluation import evaluate\n",
    "\n",
    "model_path = \"models/checkpoint-1200\"\n",
    "completion_prompt = \"{problem} \\nPlease reason step by step, and put your final answer within \\\\boxed{{}}.\\nApproach: \"\n",
    "\n",
    "dataset = get_MATH_dataset(\"test\")\n",
    "pipe = get_pipe(model_path)\n",
    "\n",
    "\n",
    "class StoppingCriteriaSub(StoppingCriteria):\n",
    "    def __call__(self, input_ids, scores):\n",
    "        decoded_text = pipe.tokenizer.decode(input_ids[0], skip_special_tokens=True)\n",
    "        return re.search(r\"\\\\boxed\\{(.+)\\}\", decoded_text) is not None\n",
    "\n",
    "\n",
    "generate_kargs = {\n",
    "    \"max_new_tokens\": 1000,\n",
    "    \"do_sample\": True,\n",
    "    \"batch_size\": 32,\n",
    "    \"top_k\": 0.0,\n",
    "    \"top_p\": 0.85,\n",
    "    \"temperature\": 0.85,\n",
    "    \"stopping_criteria\": StoppingCriteriaList([StoppingCriteriaSub()]),\n",
    "}\n",
    "\n",
    "\n",
    "def get_answer_from_output(text):\n",
    "    try:\n",
    "        result_output = re.findall(r\"\\\\boxed\\{(\\d+)\\}\", text)\n",
    "        return float(result_output[0])\n",
    "    except Exception:\n",
    "        return None\n",
    "\n",
    "\n",
    "accuracy, history = evaluate(\n",
    "    pipe=pipe,\n",
    "    dataset=dataset,\n",
    "    prompt=completion_prompt,\n",
    "    generate_kargs=generate_kargs,\n",
    "    return_history=True,\n",
    "    extract_answer=get_answer_from_output,\n",
    "    batch_size=32,\n",
    ")"
   ]
  }
 ],
 "metadata": {
  "kernelspec": {
   "display_name": ".venv",
   "language": "python",
   "name": "python3"
  },
  "language_info": {
   "codemirror_mode": {
    "name": "ipython",
    "version": 3
   },
   "file_extension": ".py",
   "mimetype": "text/x-python",
   "name": "python",
   "nbconvert_exporter": "python",
   "pygments_lexer": "ipython3",
   "version": "3.10.12"
  }
 },
 "nbformat": 4,
 "nbformat_minor": 2
}
