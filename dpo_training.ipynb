{
 "cells": [
  {
   "cell_type": "code",
   "execution_count": null,
   "metadata": {},
   "outputs": [],
   "source": [
    "from datasets import load_from_disk\n",
    "from dataset_generator import generate_dpo_dataset\n",
    "from trl import DPOConfig, DPOTrainer\n",
    "import os\n",
    "os.environ[\"WANDB_PROJECT\"] = 'CAMR'\n",
    "os.environ[\"WANDB_NOTEBOOK_NAME\"] = \"dpo_training.ipynb\"\n",
    "\n",
    "dataset_path = \"dataset/corrective_dataset_MATH_LLAMA3_8b_ZeroShot_COT\"\n",
    "model_path = \"meta-llama/Meta-Llama-3-8B-Instruct\"\n",
    "\n",
    "\n",
    "\n",
    "dataset = load_from_disk(dataset_path)\n",
    "dataset = generate_dpo_dataset(dataset)\n",
    "\n",
    "split = dataset.train_test_split(test_size=0.1)\n",
    "\n",
    "train_dataset = split['train']\n",
    "eval_dataset = split['test']"
   ]
  },
  {
   "cell_type": "code",
   "execution_count": null,
   "metadata": {},
   "outputs": [],
   "source": [
    "from unsloth import FastLanguageModel\n",
    "import torch\n",
    "model, tokenizer = FastLanguageModel.from_pretrained(\n",
    "    model_name = model_path,\n",
    "    load_in_4bit = True,\n",
    "    dtype=torch.bfloat16\n",
    ")\n",
    "\n",
    "model = FastLanguageModel.get_peft_model(\n",
    "    model,\n",
    "    r = 8,\n",
    "    target_modules = [\"q_proj\", \"k_proj\", \"v_proj\", \"o_proj\",\n",
    "                      \"gate_proj\", \"up_proj\", \"down_proj\",],\n",
    "    lora_alpha = 16,\n",
    "    lora_dropout = 0, # Dropout = 0 is currently optimized\n",
    "    bias = \"none\",    # Bias = \"none\" is currently optimized\n",
    "    use_gradient_checkpointing = True,\n",
    ")"
   ]
  },
  {
   "cell_type": "code",
   "execution_count": null,
   "metadata": {},
   "outputs": [],
   "source": [
    "\n",
    "\n",
    "dpo_trainer = DPOTrainer(\n",
    "    model = model,\n",
    "    ref_model = None,\n",
    "    args=DPOConfig(\n",
    "        output_dir=\"models\",\n",
    "        \n",
    "        num_train_epochs=3,\n",
    "        eval_strategy=\"steps\",\n",
    "        eval_steps=100,\n",
    "        save_strategy=\"steps\",\n",
    "        save_steps=100,\n",
    "        logging_strategy=\"steps\",\n",
    "        logging_steps=1,\n",
    "        \n",
    "        per_device_train_batch_size=1,\n",
    "        per_device_eval_batch_size=1,\n",
    "        \n",
    "        gradient_accumulation_steps=4, \n",
    "        eval_accumulation_steps=4,\n",
    "        gradient_checkpointing=True,\n",
    "        \n",
    "        max_length=1300,\n",
    "        max_prompt_length=300,\n",
    "        max_target_length=1000,\n",
    "        remove_unused_columns=False,\n",
    "        truncation_mode=\"keep_start\",\n",
    "        \n",
    "        load_best_model_at_end=True,\n",
    "        save_total_limit=3,\n",
    "        \n",
    "        report_to=\"wandb\",\n",
    "        run_name=\"DPO\",\n",
    "        bf16 = True,\n",
    "    ),\n",
    "    train_dataset=train_dataset,\n",
    "    eval_dataset=eval_dataset,\n",
    "    tokenizer=tokenizer,\n",
    ")"
   ]
  },
  {
   "cell_type": "code",
   "execution_count": null,
   "metadata": {},
   "outputs": [],
   "source": [
    "dpo_trainer.train()"
   ]
  },
  {
   "cell_type": "code",
   "execution_count": null,
   "metadata": {},
   "outputs": [],
   "source": [
    "import wandb\n",
    "wandb.finish()"
   ]
  }
 ],
 "metadata": {
  "kernelspec": {
   "display_name": ".venv",
   "language": "python",
   "name": "python3"
  },
  "language_info": {
   "codemirror_mode": {
    "name": "ipython",
    "version": 3
   },
   "file_extension": ".py",
   "mimetype": "text/x-python",
   "name": "python",
   "nbconvert_exporter": "python",
   "pygments_lexer": "ipython3",
   "version": "3.10.12"
  }
 },
 "nbformat": 4,
 "nbformat_minor": 2
}
