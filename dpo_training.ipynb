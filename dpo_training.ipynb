{
 "cells": [
  {
   "cell_type": "code",
   "execution_count": 1,
   "metadata": {},
   "outputs": [
    {
     "name": "stdout",
     "output_type": "stream",
     "text": [
      "[2024-07-12 17:11:20,333] [INFO] [real_accelerator.py:203:get_accelerator] Setting ds_accelerator to cuda (auto detect)\n",
      "\u001b[93m [WARNING] \u001b[0m async_io requires the dev libaio .so object and headers but these were not found.\n",
      "\u001b[93m [WARNING] \u001b[0m async_io: please install the libaio-dev package with apt\n",
      "\u001b[93m [WARNING] \u001b[0m If libaio is already installed (perhaps from source), try setting the CFLAGS and LDFLAGS environment variables to where it can be found.\n",
      "\u001b[93m [WARNING] \u001b[0m Please specify the CUTLASS repo directory as environment variable $CUTLASS_PATH\n",
      "\u001b[93m [WARNING] \u001b[0m sparse_attn requires a torch version >= 1.5 and < 2.0 but detected 2.3\n",
      "\u001b[93m [WARNING] \u001b[0m using untested triton version (2.3.1), only 1.0.0 is known to be compatible\n"
     ]
    },
    {
     "name": "stderr",
     "output_type": "stream",
     "text": [
      "/usr/bin/ld: cannot find -laio: No such file or directory\n",
      "collect2: error: ld returned 1 exit status\n"
     ]
    }
   ],
   "source": [
    "from datasets import load_from_disk\n",
    "from dataset_generator import generate_dpo_dataset\n",
    "from trl import DPOConfig, DPOTrainer\n",
    "import os\n",
    "os.environ[\"WANDB_PROJECT\"] = 'CAMR'\n",
    "os.environ[\"WANDB_NOTEBOOK_NAME\"] = \"dpo_training.ipynb\"\n",
    "\n",
    "dataset_path = \"dataset/corrective_copy_dataset_MATH_LLAMA3_8b_ZeroShot_COT\"\n",
    "model_path = \"meta-llama/Meta-Llama-3-8B-Instruct\"\n",
    "\n",
    "model_output_dir = \"models/corrective_copy_dpo\"\n",
    "\n",
    "dataset = load_from_disk(dataset_path)\n",
    "dataset = generate_dpo_dataset(dataset)\n",
    "\n",
    "split = dataset.train_test_split(test_size=0.2)\n",
    "\n",
    "train_dataset = split['train']\n",
    "eval_dataset = split['test']"
   ]
  },
  {
   "cell_type": "code",
   "execution_count": 2,
   "metadata": {},
   "outputs": [
    {
     "name": "stdout",
     "output_type": "stream",
     "text": [
      "🦥 Unsloth: Will patch your computer to enable 2x faster free finetuning.\n",
      "==((====))==  Unsloth: Fast Llama patching release 2024.7\n",
      "   \\\\   /|    GPU: NVIDIA GeForce RTX 4060 Ti. Max memory: 15.611 GB. Platform = Linux.\n",
      "O^O/ \\_/ \\    Pytorch: 2.3.1+cu121. CUDA = 8.9. CUDA Toolkit = 12.1.\n",
      "\\        /    Bfloat16 = TRUE. FA [Xformers = 0.0.27. FA2 = True]\n",
      " \"-____-\"     Free Apache license: http://github.com/unslothai/unsloth\n"
     ]
    },
    {
     "name": "stderr",
     "output_type": "stream",
     "text": [
      "Unsloth 2024.7 patched 32 layers with 32 QKV layers, 32 O layers and 32 MLP layers.\n"
     ]
    }
   ],
   "source": [
    "from unsloth import FastLanguageModel\n",
    "import torch\n",
    "model, tokenizer = FastLanguageModel.from_pretrained(\n",
    "    model_name = model_path,\n",
    "    load_in_4bit = True,\n",
    "    dtype=torch.bfloat16\n",
    ")\n",
    "\n",
    "model = FastLanguageModel.get_peft_model(\n",
    "    model,\n",
    "    r = 8,\n",
    "    target_modules = [\"q_proj\", \"k_proj\", \"v_proj\", \"o_proj\",\n",
    "                      \"gate_proj\", \"up_proj\", \"down_proj\",],\n",
    "    lora_alpha = 16,\n",
    "    lora_dropout = 0, # Dropout = 0 is currently optimized\n",
    "    bias = \"none\",    # Bias = \"none\" is currently optimized\n",
    "    use_gradient_checkpointing = True,\n",
    ")"
   ]
  },
  {
   "cell_type": "code",
   "execution_count": 3,
   "metadata": {},
   "outputs": [
    {
     "data": {
      "application/vnd.jupyter.widget-view+json": {
       "model_id": "16697016ae2a4a4fb778e8e83a9717bb",
       "version_major": 2,
       "version_minor": 0
      },
      "text/plain": [
       "Map:   0%|          | 0/3660 [00:00<?, ? examples/s]"
      ]
     },
     "metadata": {},
     "output_type": "display_data"
    },
    {
     "data": {
      "application/vnd.jupyter.widget-view+json": {
       "model_id": "2d84aff94b4d4c26864a00ecb2d0729a",
       "version_major": 2,
       "version_minor": 0
      },
      "text/plain": [
       "Map:   0%|          | 0/915 [00:00<?, ? examples/s]"
      ]
     },
     "metadata": {},
     "output_type": "display_data"
    }
   ],
   "source": [
    "\n",
    "\n",
    "dpo_trainer = DPOTrainer(\n",
    "    model = model,\n",
    "    ref_model = None,\n",
    "    args=DPOConfig(\n",
    "        output_dir=model_output_dir,\n",
    "        \n",
    "        num_train_epochs=3,\n",
    "        eval_strategy=\"steps\",\n",
    "        eval_steps=100,\n",
    "        save_strategy=\"steps\",\n",
    "        save_steps=100,\n",
    "        logging_strategy=\"steps\",\n",
    "        logging_steps=1,\n",
    "        \n",
    "        per_device_train_batch_size=1,\n",
    "        per_device_eval_batch_size=1,\n",
    "        \n",
    "        gradient_accumulation_steps=4, \n",
    "        eval_accumulation_steps=4,\n",
    "        gradient_checkpointing=True,\n",
    "        \n",
    "        max_length=1300,\n",
    "        max_prompt_length=300,\n",
    "        max_target_length=1000,\n",
    "        remove_unused_columns=False,\n",
    "        truncation_mode=\"keep_start\",\n",
    "        \n",
    "        load_best_model_at_end=True,\n",
    "        save_total_limit=3,\n",
    "        \n",
    "        learning_rate=0.000005,\n",
    "        \n",
    "        report_to=\"wandb\",\n",
    "        run_name=\"DPO\",\n",
    "        bf16 = True,\n",
    "    ),\n",
    "    train_dataset=train_dataset,\n",
    "    eval_dataset=eval_dataset,\n",
    "    tokenizer=tokenizer,\n",
    ")"
   ]
  },
  {
   "cell_type": "code",
   "execution_count": 4,
   "metadata": {},
   "outputs": [
    {
     "name": "stderr",
     "output_type": "stream",
     "text": [
      "==((====))==  Unsloth - 2x faster free finetuning | Num GPUs = 1\n",
      "   \\\\   /|    Num examples = 3,660 | Num Epochs = 3\n",
      "O^O/ \\_/ \\    Batch size per device = 1 | Gradient Accumulation steps = 4\n",
      "\\        /    Total batch size = 4 | Total steps = 2,745\n",
      " \"-____-\"     Number of trainable parameters = 20,971,520\n"
     ]
    },
    {
     "name": "stderr",
     "output_type": "stream",
     "text": [
      "\u001b[34m\u001b[1mwandb\u001b[0m: Currently logged in as: \u001b[33mchengpong1127\u001b[0m (\u001b[33mteam-quantum\u001b[0m). Use \u001b[1m`wandb login --relogin`\u001b[0m to force relogin\n"
     ]
    },
    {
     "data": {
      "text/html": [
       "Tracking run with wandb version 0.17.4"
      ],
      "text/plain": [
       "<IPython.core.display.HTML object>"
      ]
     },
     "metadata": {},
     "output_type": "display_data"
    },
    {
     "data": {
      "text/html": [
       "Run data is saved locally in <code>/home/ntuai/AIMO/wandb/run-20240712_171139-zx1fci89</code>"
      ],
      "text/plain": [
       "<IPython.core.display.HTML object>"
      ]
     },
     "metadata": {},
     "output_type": "display_data"
    },
    {
     "data": {
      "text/html": [
       "Syncing run <strong><a href='https://wandb.ai/team-quantum/CAMR/runs/zx1fci89' target=\"_blank\">DPO</a></strong> to <a href='https://wandb.ai/team-quantum/CAMR' target=\"_blank\">Weights & Biases</a> (<a href='https://wandb.me/run' target=\"_blank\">docs</a>)<br/>"
      ],
      "text/plain": [
       "<IPython.core.display.HTML object>"
      ]
     },
     "metadata": {},
     "output_type": "display_data"
    },
    {
     "data": {
      "text/html": [
       " View project at <a href='https://wandb.ai/team-quantum/CAMR' target=\"_blank\">https://wandb.ai/team-quantum/CAMR</a>"
      ],
      "text/plain": [
       "<IPython.core.display.HTML object>"
      ]
     },
     "metadata": {},
     "output_type": "display_data"
    },
    {
     "data": {
      "text/html": [
       " View run at <a href='https://wandb.ai/team-quantum/CAMR/runs/zx1fci89' target=\"_blank\">https://wandb.ai/team-quantum/CAMR/runs/zx1fci89</a>"
      ],
      "text/plain": [
       "<IPython.core.display.HTML object>"
      ]
     },
     "metadata": {},
     "output_type": "display_data"
    },
    {
     "name": "stderr",
     "output_type": "stream",
     "text": [
      "Could not estimate the number of tokens of the input, floating-point operations will not be computed\n"
     ]
    },
    {
     "data": {
      "text/html": [
       "\n",
       "    <div>\n",
       "      \n",
       "      <progress value='2299' max='2745' style='width:300px; height:20px; vertical-align: middle;'></progress>\n",
       "      [2299/2745 9:14:49 < 1:47:43, 0.07 it/s, Epoch 2.51/3]\n",
       "    </div>\n",
       "    <table border=\"1\" class=\"dataframe\">\n",
       "  <thead>\n",
       " <tr style=\"text-align: left;\">\n",
       "      <th>Step</th>\n",
       "      <th>Training Loss</th>\n",
       "      <th>Validation Loss</th>\n",
       "      <th>Rewards/chosen</th>\n",
       "      <th>Rewards/rejected</th>\n",
       "      <th>Rewards/accuracies</th>\n",
       "      <th>Rewards/margins</th>\n",
       "      <th>Logps/rejected</th>\n",
       "      <th>Logps/chosen</th>\n",
       "      <th>Logits/rejected</th>\n",
       "      <th>Logits/chosen</th>\n",
       "    </tr>\n",
       "  </thead>\n",
       "  <tbody>\n",
       "    <tr>\n",
       "      <td>100</td>\n",
       "      <td>0.540300</td>\n",
       "      <td>0.593278</td>\n",
       "      <td>0.255541</td>\n",
       "      <td>0.024361</td>\n",
       "      <td>0.816393</td>\n",
       "      <td>0.231179</td>\n",
       "      <td>-105.134850</td>\n",
       "      <td>-115.795311</td>\n",
       "      <td>-0.153971</td>\n",
       "      <td>-0.203402</td>\n",
       "    </tr>\n",
       "    <tr>\n",
       "      <td>200</td>\n",
       "      <td>0.096500</td>\n",
       "      <td>0.434301</td>\n",
       "      <td>0.576965</td>\n",
       "      <td>-0.308383</td>\n",
       "      <td>0.824044</td>\n",
       "      <td>0.885348</td>\n",
       "      <td>-108.462296</td>\n",
       "      <td>-112.581062</td>\n",
       "      <td>-0.104641</td>\n",
       "      <td>-0.143381</td>\n",
       "    </tr>\n",
       "    <tr>\n",
       "      <td>300</td>\n",
       "      <td>0.075800</td>\n",
       "      <td>0.374344</td>\n",
       "      <td>0.245502</td>\n",
       "      <td>-1.122327</td>\n",
       "      <td>0.833880</td>\n",
       "      <td>1.367829</td>\n",
       "      <td>-116.601746</td>\n",
       "      <td>-115.895691</td>\n",
       "      <td>-0.050641</td>\n",
       "      <td>-0.081309</td>\n",
       "    </tr>\n",
       "    <tr>\n",
       "      <td>400</td>\n",
       "      <td>0.316200</td>\n",
       "      <td>0.344901</td>\n",
       "      <td>-0.170110</td>\n",
       "      <td>-1.937583</td>\n",
       "      <td>0.839344</td>\n",
       "      <td>1.767473</td>\n",
       "      <td>-124.754295</td>\n",
       "      <td>-120.051811</td>\n",
       "      <td>-0.001335</td>\n",
       "      <td>-0.029887</td>\n",
       "    </tr>\n",
       "    <tr>\n",
       "      <td>500</td>\n",
       "      <td>0.305900</td>\n",
       "      <td>0.326381</td>\n",
       "      <td>-0.738955</td>\n",
       "      <td>-2.860226</td>\n",
       "      <td>0.848087</td>\n",
       "      <td>2.121270</td>\n",
       "      <td>-133.980728</td>\n",
       "      <td>-125.740265</td>\n",
       "      <td>0.029420</td>\n",
       "      <td>0.000966</td>\n",
       "    </tr>\n",
       "    <tr>\n",
       "      <td>600</td>\n",
       "      <td>0.106500</td>\n",
       "      <td>0.301508</td>\n",
       "      <td>-0.689236</td>\n",
       "      <td>-2.945460</td>\n",
       "      <td>0.861202</td>\n",
       "      <td>2.256224</td>\n",
       "      <td>-134.833069</td>\n",
       "      <td>-125.243073</td>\n",
       "      <td>0.064508</td>\n",
       "      <td>0.028438</td>\n",
       "    </tr>\n",
       "    <tr>\n",
       "      <td>700</td>\n",
       "      <td>0.430000</td>\n",
       "      <td>0.285132</td>\n",
       "      <td>-1.293168</td>\n",
       "      <td>-3.891044</td>\n",
       "      <td>0.866667</td>\n",
       "      <td>2.597876</td>\n",
       "      <td>-144.288940</td>\n",
       "      <td>-131.282394</td>\n",
       "      <td>0.079141</td>\n",
       "      <td>0.039709</td>\n",
       "    </tr>\n",
       "    <tr>\n",
       "      <td>800</td>\n",
       "      <td>0.172800</td>\n",
       "      <td>0.267980</td>\n",
       "      <td>-1.375643</td>\n",
       "      <td>-4.110973</td>\n",
       "      <td>0.878689</td>\n",
       "      <td>2.735331</td>\n",
       "      <td>-146.488205</td>\n",
       "      <td>-132.107132</td>\n",
       "      <td>0.101712</td>\n",
       "      <td>0.058228</td>\n",
       "    </tr>\n",
       "    <tr>\n",
       "      <td>900</td>\n",
       "      <td>0.236700</td>\n",
       "      <td>0.259899</td>\n",
       "      <td>-2.261848</td>\n",
       "      <td>-5.401323</td>\n",
       "      <td>0.879781</td>\n",
       "      <td>3.139476</td>\n",
       "      <td>-159.391708</td>\n",
       "      <td>-140.969193</td>\n",
       "      <td>0.116246</td>\n",
       "      <td>0.074983</td>\n",
       "    </tr>\n",
       "    <tr>\n",
       "      <td>1000</td>\n",
       "      <td>0.003300</td>\n",
       "      <td>0.245963</td>\n",
       "      <td>-2.052123</td>\n",
       "      <td>-5.200417</td>\n",
       "      <td>0.889618</td>\n",
       "      <td>3.148295</td>\n",
       "      <td>-157.382629</td>\n",
       "      <td>-138.871948</td>\n",
       "      <td>0.110899</td>\n",
       "      <td>0.063145</td>\n",
       "    </tr>\n",
       "    <tr>\n",
       "      <td>1100</td>\n",
       "      <td>0.567300</td>\n",
       "      <td>0.247239</td>\n",
       "      <td>-2.544899</td>\n",
       "      <td>-6.043836</td>\n",
       "      <td>0.885246</td>\n",
       "      <td>3.498936</td>\n",
       "      <td>-165.816818</td>\n",
       "      <td>-143.799698</td>\n",
       "      <td>0.107959</td>\n",
       "      <td>0.059224</td>\n",
       "    </tr>\n",
       "    <tr>\n",
       "      <td>1200</td>\n",
       "      <td>0.272000</td>\n",
       "      <td>0.242068</td>\n",
       "      <td>-2.861947</td>\n",
       "      <td>-6.580608</td>\n",
       "      <td>0.887432</td>\n",
       "      <td>3.718661</td>\n",
       "      <td>-171.184540</td>\n",
       "      <td>-146.970184</td>\n",
       "      <td>0.105514</td>\n",
       "      <td>0.056416</td>\n",
       "    </tr>\n",
       "    <tr>\n",
       "      <td>1300</td>\n",
       "      <td>0.210200</td>\n",
       "      <td>0.245913</td>\n",
       "      <td>-3.196738</td>\n",
       "      <td>-7.082833</td>\n",
       "      <td>0.884153</td>\n",
       "      <td>3.886095</td>\n",
       "      <td>-176.206802</td>\n",
       "      <td>-150.318100</td>\n",
       "      <td>0.070358</td>\n",
       "      <td>0.022191</td>\n",
       "    </tr>\n",
       "    <tr>\n",
       "      <td>1400</td>\n",
       "      <td>0.091100</td>\n",
       "      <td>0.237036</td>\n",
       "      <td>-3.376568</td>\n",
       "      <td>-7.490162</td>\n",
       "      <td>0.888525</td>\n",
       "      <td>4.113594</td>\n",
       "      <td>-180.280090</td>\n",
       "      <td>-152.116394</td>\n",
       "      <td>0.066219</td>\n",
       "      <td>0.015391</td>\n",
       "    </tr>\n",
       "    <tr>\n",
       "      <td>1500</td>\n",
       "      <td>0.007600</td>\n",
       "      <td>0.245854</td>\n",
       "      <td>-4.211017</td>\n",
       "      <td>-8.653727</td>\n",
       "      <td>0.888525</td>\n",
       "      <td>4.442709</td>\n",
       "      <td>-191.915726</td>\n",
       "      <td>-160.460892</td>\n",
       "      <td>0.064975</td>\n",
       "      <td>0.015549</td>\n",
       "    </tr>\n",
       "    <tr>\n",
       "      <td>1600</td>\n",
       "      <td>0.020300</td>\n",
       "      <td>0.242987</td>\n",
       "      <td>-4.156458</td>\n",
       "      <td>-8.739772</td>\n",
       "      <td>0.891803</td>\n",
       "      <td>4.583314</td>\n",
       "      <td>-192.776199</td>\n",
       "      <td>-159.915298</td>\n",
       "      <td>0.056762</td>\n",
       "      <td>0.007739</td>\n",
       "    </tr>\n",
       "    <tr>\n",
       "      <td>1700</td>\n",
       "      <td>0.654400</td>\n",
       "      <td>0.249699</td>\n",
       "      <td>-4.960585</td>\n",
       "      <td>-9.911754</td>\n",
       "      <td>0.888525</td>\n",
       "      <td>4.951170</td>\n",
       "      <td>-204.496002</td>\n",
       "      <td>-167.956558</td>\n",
       "      <td>0.071858</td>\n",
       "      <td>0.022500</td>\n",
       "    </tr>\n",
       "    <tr>\n",
       "      <td>1800</td>\n",
       "      <td>0.006200</td>\n",
       "      <td>0.241036</td>\n",
       "      <td>-4.692803</td>\n",
       "      <td>-9.640471</td>\n",
       "      <td>0.890710</td>\n",
       "      <td>4.947669</td>\n",
       "      <td>-201.783173</td>\n",
       "      <td>-165.278763</td>\n",
       "      <td>0.089012</td>\n",
       "      <td>0.037797</td>\n",
       "    </tr>\n",
       "    <tr>\n",
       "      <td>1900</td>\n",
       "      <td>0.004600</td>\n",
       "      <td>0.249905</td>\n",
       "      <td>-5.127062</td>\n",
       "      <td>-10.330303</td>\n",
       "      <td>0.890710</td>\n",
       "      <td>5.203240</td>\n",
       "      <td>-208.681488</td>\n",
       "      <td>-169.621353</td>\n",
       "      <td>0.062418</td>\n",
       "      <td>0.013886</td>\n",
       "    </tr>\n",
       "    <tr>\n",
       "      <td>2000</td>\n",
       "      <td>0.007000</td>\n",
       "      <td>0.257894</td>\n",
       "      <td>-5.679862</td>\n",
       "      <td>-11.125521</td>\n",
       "      <td>0.892896</td>\n",
       "      <td>5.445659</td>\n",
       "      <td>-216.633682</td>\n",
       "      <td>-175.149353</td>\n",
       "      <td>0.055008</td>\n",
       "      <td>0.005908</td>\n",
       "    </tr>\n",
       "    <tr>\n",
       "      <td>2100</td>\n",
       "      <td>0.000200</td>\n",
       "      <td>0.266674</td>\n",
       "      <td>-6.363993</td>\n",
       "      <td>-12.098777</td>\n",
       "      <td>0.887432</td>\n",
       "      <td>5.734786</td>\n",
       "      <td>-226.366226</td>\n",
       "      <td>-181.990631</td>\n",
       "      <td>0.054365</td>\n",
       "      <td>0.004936</td>\n",
       "    </tr>\n",
       "    <tr>\n",
       "      <td>2200</td>\n",
       "      <td>0.274400</td>\n",
       "      <td>0.274252</td>\n",
       "      <td>-6.745024</td>\n",
       "      <td>-12.597095</td>\n",
       "      <td>0.889618</td>\n",
       "      <td>5.852071</td>\n",
       "      <td>-231.349442</td>\n",
       "      <td>-185.800949</td>\n",
       "      <td>0.049470</td>\n",
       "      <td>0.000084</td>\n",
       "    </tr>\n",
       "  </tbody>\n",
       "</table><p>"
      ],
      "text/plain": [
       "<IPython.core.display.HTML object>"
      ]
     },
     "metadata": {},
     "output_type": "display_data"
    }
   ],
   "source": [
    "dpo_trainer.train()"
   ]
  },
  {
   "cell_type": "code",
   "execution_count": null,
   "metadata": {},
   "outputs": [],
   "source": [
    "import wandb\n",
    "wandb.finish()"
   ]
  }
 ],
 "metadata": {
  "kernelspec": {
   "display_name": ".venv",
   "language": "python",
   "name": "python3"
  },
  "language_info": {
   "codemirror_mode": {
    "name": "ipython",
    "version": 3
   },
   "file_extension": ".py",
   "mimetype": "text/x-python",
   "name": "python",
   "nbconvert_exporter": "python",
   "pygments_lexer": "ipython3",
   "version": "3.10.12"
  }
 },
 "nbformat": 4,
 "nbformat_minor": 2
}
