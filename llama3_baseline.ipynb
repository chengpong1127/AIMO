{
 "cells": [
  {
   "cell_type": "code",
   "execution_count": 1,
   "metadata": {},
   "outputs": [
    {
     "name": "stderr",
     "output_type": "stream",
     "text": [
      "/usr/lib/python3/dist-packages/scipy/__init__.py:146: UserWarning: A NumPy version >=1.17.3 and <1.25.0 is required for this version of SciPy (detected version 1.25.2\n",
      "  warnings.warn(f\"A NumPy version >={np_minversion} and <{np_maxversion}\"\n",
      "/home/ubuntu/.local/lib/python3.10/site-packages/huggingface_hub/file_download.py:1132: FutureWarning: `resume_download` is deprecated and will be removed in version 1.0.0. Downloads always resume when possible. If you want to force a new download, use `force_download=True`.\n",
      "  warnings.warn(\n",
      "`low_cpu_mem_usage` was None, now set to True since model is quantized.\n"
     ]
    },
    {
     "data": {
      "application/vnd.jupyter.widget-view+json": {
       "model_id": "3173fc5940de40bf991169fef15e4176",
       "version_major": 2,
       "version_minor": 0
      },
      "text/plain": [
       "Loading checkpoint shards:   0%|          | 0/4 [00:00<?, ?it/s]"
      ]
     },
     "metadata": {},
     "output_type": "display_data"
    },
    {
     "name": "stderr",
     "output_type": "stream",
     "text": [
      "/home/ubuntu/.local/lib/python3.10/site-packages/huggingface_hub/file_download.py:1132: FutureWarning: `resume_download` is deprecated and will be removed in version 1.0.0. Downloads always resume when possible. If you want to force a new download, use `force_download=True`.\n",
      "  warnings.warn(\n",
      "Special tokens have been added in the vocabulary, make sure the associated word embeddings are fine-tuned or trained.\n"
     ]
    }
   ],
   "source": [
    "from datasets import load_dataset\n",
    "from dataset import get_MATH_dataset, get_GSM8k_dataset\n",
    "from dataset_generator import (\n",
    "    generate_completion_dataset,\n",
    "    generate_corrective_dataset,\n",
    "    generate_kto_dataset,\n",
    "    generate_copy_dataset,\n",
    ")\n",
    "from transformers import (\n",
    "    pipeline,\n",
    "    BitsAndBytesConfig,\n",
    "    AutoModelForCausalLM,\n",
    "    AutoTokenizer,\n",
    ")\n",
    "import re\n",
    "\n",
    "quantization_config = BitsAndBytesConfig(\n",
    "    load_in_4bit=True,\n",
    "    bnb_4bit_quant_type=\"nf4\",\n",
    "    bnb_4bit_use_double_quant=True,\n",
    "    bnb_4bit_compute_dtype=\"bfloat16\",\n",
    ")\n",
    "model_path = \"meta-llama/Meta-Llama-3-8B-Instruct\"\n",
    "model = AutoModelForCausalLM.from_pretrained(\n",
    "    model_path, quantization_config=quantization_config\n",
    ")\n",
    "tokenizer = AutoTokenizer.from_pretrained(model_path)\n",
    "tokenizer.pad_token_id = tokenizer.eos_token_id\n",
    "pipe = pipeline(\"text-generation\", model=model, tokenizer=tokenizer)\n",
    "\n",
    "generate_kargs = {\"max_new_tokens\": 3000, \"do_sample\": True, \"batch_size\": 64}\n",
    "\n",
    "prompt = \"{problem} \\nPlease reason step by step, and put your final answer within \\\\boxed{{}}\"\n",
    "\n",
<<<<<<< HEAD
    "dataset = load_dataset(\"openai/gsm8k\", \"main\")\n",
    "testing_set = dataset[\"test\"]\n",
    "# Change the testing_set question col into problem col\n",
    "testing_set = testing_set.rename_column(\"question\", \"problem\")\n",
=======
    "dataset = get_MATH_dataset(dataset_type=\"test\")\n",
>>>>>>> 4624ed3f94452d3869e62ad53531e11b62d07395
    "\n",
    "def get_answer_from_output(text):\n",
    "    try:\n",
    "        result_output = re.findall(r\"\\\\boxed\\{(\\d+)\\}\", text)\n",
    "        return float(result_output[0])\n",
    "    except Exception:\n",
    "        return None"
   ]
  },
  {
   "cell_type": "code",
   "execution_count": 2,
   "metadata": {},
   "outputs": [
    {
     "data": {
      "application/vnd.jupyter.widget-view+json": {
<<<<<<< HEAD
       "model_id": "0e76922e20f444c4906be1c3bfb5b0a2",
=======
       "model_id": "9f8c86d2011547ddb370a14b4ae256c3",
>>>>>>> 4624ed3f94452d3869e62ad53531e11b62d07395
       "version_major": 2,
       "version_minor": 0
      },
      "text/plain": [
<<<<<<< HEAD
       "Generating completions:   0%|          | 0/1319 [00:00<?, ?it/s]"
=======
       "Generating completions:   0%|          | 0/2771 [00:00<?, ?it/s]"
>>>>>>> 4624ed3f94452d3869e62ad53531e11b62d07395
      ]
     },
     "metadata": {},
     "output_type": "display_data"
    }
   ],
   "source": [
    "completion_dataset = generate_completion_dataset(\n",
    "    pipe,\n",
    "    dataset,\n",
    "    prompt,\n",
    "    get_answer_from_output,\n",
    "    generate_kwargs=generate_kargs,\n",
    "    generate_count_per_problem=1,\n",
    ")\n",
    "\n",
    "# Calculate the accuracy of the model\n",
    "correct = 0\n",
    "total = 0\n",
    "for problem in completion_dataset:\n",
    "    total += 1\n",
    "    if problem[\"correct\"]:\n",
    "        correct += 1\n",
    "        \n",
    "print(f\"Accuracy: {correct/total}\")"
   ]
  }
 ],
 "metadata": {
  "kernelspec": {
   "display_name": "Python 3 (ipykernel)",
   "language": "python",
   "name": "python3"
  },
  "language_info": {
   "codemirror_mode": {
    "name": "ipython",
    "version": 3
   },
   "file_extension": ".py",
   "mimetype": "text/x-python",
   "name": "python",
   "nbconvert_exporter": "python",
   "pygments_lexer": "ipython3",
   "version": "3.10.12"
  }
 },
 "nbformat": 4,
 "nbformat_minor": 2
}
