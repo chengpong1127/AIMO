{
 "cells": [
  {
   "cell_type": "code",
   "execution_count": 12,
   "metadata": {},
   "outputs": [
    {
     "name": "stdout",
     "output_type": "stream",
     "text": [
      "Number of examples: 1769\n"
     ]
    },
    {
     "data": {
      "application/vnd.jupyter.widget-view+json": {
       "model_id": "b80a823abecc40f1ac05df9992f347fb",
       "version_major": 2,
       "version_minor": 0
      },
      "text/plain": [
       "Filter:   0%|          | 0/1769 [00:00<?, ? examples/s]"
      ]
     },
     "metadata": {},
     "output_type": "display_data"
    },
    {
     "name": "stdout",
     "output_type": "stream",
     "text": [
      "LLAMA3_8b_ZeroShot_COT - MATH\n",
      "Number of correct examples: 356\n",
      "Number of incorrect examples: 1413\n",
      "Accuracy: 0.20\n"
     ]
    }
   ],
   "source": [
    "from datasets import load_from_disk\n",
    "\n",
    "dataset = load_from_disk(\"./completion_dataset_MATH_LLAMA3_8b_ZeroShot_COT_checkpoint\")\n",
    "\n",
    "print(f\"Number of examples: {len(dataset)}\")\n",
    "\n",
    "num_correct = len(dataset.filter(lambda example: example[\"label\"] == 1))\n",
    "num_total = len(dataset)\n",
    "\n",
    "print(\"LLAMA3_8b_ZeroShot_COT - MATH\")\n",
    "print(f\"Number of correct examples: {num_correct}\")\n",
    "print(f\"Number of incorrect examples: {num_total - num_correct}\")\n",
    "print(f\"Accuracy: {num_correct / num_total:.2f}\")"
   ]
  },
  {
   "cell_type": "code",
   "execution_count": 13,
   "metadata": {},
   "outputs": [
    {
     "name": "stdout",
     "output_type": "stream",
     "text": [
      "Number of examples: 826\n"
     ]
    },
    {
     "data": {
      "application/vnd.jupyter.widget-view+json": {
       "model_id": "93a0765af1094af28f0d93448d0b232a",
       "version_major": 2,
       "version_minor": 0
      },
      "text/plain": [
       "Filter:   0%|          | 0/826 [00:00<?, ? examples/s]"
      ]
     },
     "metadata": {},
     "output_type": "display_data"
    },
    {
     "name": "stdout",
     "output_type": "stream",
     "text": [
      "Phi3_ZeroShot_COT - MATH\n",
      "Phi3_Zero_shot_COT_14B\n",
      "Number of correct examples: 319\n",
      "Number of incorrect examples: 507\n",
      "Accuracy: 0.39\n"
     ]
    }
   ],
   "source": [
    "dataset = load_from_disk(\"./completion_dataset_MATH_Phi3_ZeroShot_COT_checkpoint\")\n",
    "\n",
    "print(f\"Number of examples: {len(dataset)}\")\n",
    "\n",
    "num_correct = len(dataset.filter(lambda example: example[\"label\"] == 1))\n",
    "num_total = len(dataset)\n",
    "\n",
    "print(\"Phi3_ZeroShot_COT - MATH\")\n",
    "print(\"Phi3_Zero_shot_COT_14B\")\n",
    "print(f\"Number of correct examples: {num_correct}\")\n",
    "print(f\"Number of incorrect examples: {num_total - num_correct}\")\n",
    "print(f\"Accuracy: {num_correct / num_total:.2f}\")"
   ]
  }
 ],
 "metadata": {
  "kernelspec": {
   "display_name": "Python 3",
   "language": "python",
   "name": "python3"
  },
  "language_info": {
   "codemirror_mode": {
    "name": "ipython",
    "version": 3
   },
   "file_extension": ".py",
   "mimetype": "text/x-python",
   "name": "python",
   "nbconvert_exporter": "python",
   "pygments_lexer": "ipython3",
   "version": "3.10.12"
  }
 },
 "nbformat": 4,
 "nbformat_minor": 2
}
