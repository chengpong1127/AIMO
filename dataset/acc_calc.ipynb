{
 "cells": [
  {
   "cell_type": "code",
   "execution_count": 10,
   "metadata": {},
   "outputs": [
    {
     "name": "stdout",
     "output_type": "stream",
     "text": [
      "Number of examples: 1744\n"
     ]
    },
    {
     "data": {
      "application/vnd.jupyter.widget-view+json": {
       "model_id": "0594f11287674471bc49f6c0c971f3e8",
       "version_major": 2,
       "version_minor": 0
      },
      "text/plain": [
       "Filter:   0%|          | 0/1744 [00:00<?, ? examples/s]"
      ]
     },
     "metadata": {},
     "output_type": "display_data"
    },
    {
     "name": "stdout",
     "output_type": "stream",
     "text": [
      "LLAMA3_8b_ZeroShot_COT - MATH\n",
      "Number of correct examples: 348\n",
      "Number of incorrect examples: 1396\n",
      "Accuracy: 0.20\n"
     ]
    }
   ],
   "source": [
    "from datasets import load_from_disk\n",
    "\n",
    "dataset = load_from_disk(\"./completion_dataset_MATH_LLAMA3_8b_ZeroShot_COT_checkpoint\")\n",
    "\n",
    "print(f\"Number of examples: {len(dataset)}\")\n",
    "\n",
    "num_correct = len(dataset.filter(lambda example: example[\"label\"] == 1))\n",
    "num_total = len(dataset)\n",
    "\n",
    "print(\"LLAMA3_8b_ZeroShot_COT - MATH\")\n",
    "print(f\"Number of correct examples: {num_correct}\")\n",
    "print(f\"Number of incorrect examples: {num_total - num_correct}\")\n",
    "print(f\"Accuracy: {num_correct / num_total:.2f}\")"
   ]
  },
  {
   "cell_type": "code",
   "execution_count": 11,
   "metadata": {},
   "outputs": [
    {
     "name": "stdout",
     "output_type": "stream",
     "text": [
      "Number of examples: 810\n"
     ]
    },
    {
     "data": {
      "application/vnd.jupyter.widget-view+json": {
       "model_id": "0625c8faeb6944a9bb6db1525c3e8cd8",
       "version_major": 2,
       "version_minor": 0
      },
      "text/plain": [
       "Filter:   0%|          | 0/810 [00:00<?, ? examples/s]"
      ]
     },
     "metadata": {},
     "output_type": "display_data"
    },
    {
     "name": "stdout",
     "output_type": "stream",
     "text": [
      "Phi3_ZeroShot_COT - MATH\n",
      "Number of correct examples: 317\n",
      "Number of incorrect examples: 493\n",
      "Accuracy: 0.39\n"
     ]
    }
   ],
   "source": [
    "dataset = load_from_disk(\"./completion_dataset_MATH_Phi3_ZeroShot_COT_checkpoint\")\n",
    "\n",
    "print(f\"Number of examples: {len(dataset)}\")\n",
    "\n",
    "num_correct = len(dataset.filter(lambda example: example[\"label\"] == 1))\n",
    "num_total = len(dataset)\n",
    "\n",
    "print(\"Phi3_ZeroShot_COT - MATH\")\n",
    "print(f\"Number of correct examples: {num_correct}\")\n",
    "print(f\"Number of incorrect examples: {num_total - num_correct}\")\n",
    "print(f\"Accuracy: {num_correct / num_total:.2f}\")"
   ]
  }
 ],
 "metadata": {
  "kernelspec": {
   "display_name": "Python 3",
   "language": "python",
   "name": "python3"
  },
  "language_info": {
   "codemirror_mode": {
    "name": "ipython",
    "version": 3
   },
   "file_extension": ".py",
   "mimetype": "text/x-python",
   "name": "python",
   "nbconvert_exporter": "python",
   "pygments_lexer": "ipython3",
   "version": "3.10.12"
  }
 },
 "nbformat": 4,
 "nbformat_minor": 2
}
