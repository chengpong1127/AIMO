{
 "cells": [
  {
   "cell_type": "code",
   "execution_count": 41,
   "metadata": {},
   "outputs": [
    {
     "name": "stdout",
     "output_type": "stream",
     "text": [
      "Number of examples: 717\n",
      "Llama3-8b_ZeroShot_COT - GSM8k\n",
      "Number of correct examples: 311\n",
      "Number of incorrect examples: 406\n",
      "Accuracy: 0.43\n"
     ]
    }
   ],
   "source": [
    "from datasets import load_from_disk\n",
    "\n",
    "dataset = load_from_disk(\"./completion_dataset_GSM8k_LLAMA3_8b_ZeroShot_COT_checkpoint\")\n",
    "\n",
    "print(f\"Number of examples: {len(dataset)}\")\n",
    "\n",
    "num_correct = len(dataset.filter(lambda example: example[\"label\"] == 1))\n",
    "num_total = len(dataset)\n",
    "\n",
    "print(\"Llama3-8b_ZeroShot_COT - GSM8k\")\n",
    "print(f\"Number of correct examples: {num_correct}\")\n",
    "print(f\"Number of incorrect examples: {num_total - num_correct}\")\n",
    "print(f\"Accuracy: {num_correct / num_total:.2f}\")"
   ]
  },
  {
   "cell_type": "code",
   "execution_count": 42,
   "metadata": {},
   "outputs": [
    {
     "name": "stdout",
     "output_type": "stream",
     "text": [
      "Number of examples: 169\n",
      "Phi3_ZeroShot_COT - MATH\n",
      "Number of correct examples: 76\n",
      "Number of incorrect examples: 93\n",
      "Accuracy: 0.45\n"
     ]
    }
   ],
   "source": [
    "dataset = load_from_disk(\"./completion_dataset_GSM8k_Phi-3-mini-128k-instruct_ZeroShot_COT_checkpoint\")\n",
    "\n",
    "print(f\"Number of examples: {len(dataset)}\")\n",
    "\n",
    "num_correct = len(dataset.filter(lambda example: example[\"label\"] == 1))\n",
    "num_total = len(dataset)\n",
    "\n",
    "print(\"Phi3_ZeroShot_COT - MATH\")\n",
    "print(f\"Number of correct examples: {num_correct}\")\n",
    "print(f\"Number of incorrect examples: {num_total - num_correct}\")\n",
    "print(f\"Accuracy: {num_correct / num_total:.2f}\")\n"
   ]
  }
 ],
 "metadata": {
  "kernelspec": {
   "display_name": "Python 3",
   "language": "python",
   "name": "python3"
  },
  "language_info": {
   "codemirror_mode": {
    "name": "ipython",
    "version": 3
   },
   "file_extension": ".py",
   "mimetype": "text/x-python",
   "name": "python",
   "nbconvert_exporter": "python",
   "pygments_lexer": "ipython3",
   "version": "3.12.3"
  }
 },
 "nbformat": 4,
 "nbformat_minor": 2
}
