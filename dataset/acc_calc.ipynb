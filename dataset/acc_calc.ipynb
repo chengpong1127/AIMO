{
 "cells": [
  {
   "cell_type": "code",
   "execution_count": 65,
   "metadata": {},
   "outputs": [
    {
     "name": "stdout",
     "output_type": "stream",
     "text": [
      "Number of examples: 2771\n"
     ]
    },
    {
     "data": {
      "application/vnd.jupyter.widget-view+json": {
       "model_id": "1dfc721b20144e6b89c04a1844754039",
       "version_major": 2,
       "version_minor": 0
      },
      "text/plain": [
       "Filter:   0%|          | 0/2771 [00:00<?, ? examples/s]"
      ]
     },
     "metadata": {},
     "output_type": "display_data"
    },
    {
     "name": "stdout",
     "output_type": "stream",
     "text": [
      "Completed\n",
      "phi3_mini_128k_ZeroShot_COT - MATH\n",
      "Number of correct examples: 1004\n",
      "Number of incorrect examples: 1767\n",
      "Accuracy: 0.36\n"
     ]
    }
   ],
   "source": [
    "from datasets import load_from_disk\n",
    "\n",
    "dataset = load_from_disk(\"./completion_dataset_MATH_phi3_mini_128k_instruct_ZeroShot_COT_checkpoint\")\n",
    "\n",
    "print(f\"Number of examples: {len(dataset)}\")\n",
    "\n",
    "num_correct = len(dataset.filter(lambda example: example[\"label\"] == 1))\n",
    "num_total = len(dataset)\n",
    "if len(dataset) == 2771:\n",
    "    print(\"Completed\")\n",
    "else: \n",
    "    print(\"Not Completed\")\n",
    "print(\"phi3_mini_128k_ZeroShot_COT - MATH\")\n",
    "print(f\"Number of correct examples: {num_correct}\")\n",
    "print(f\"Number of incorrect examples: {num_total - num_correct}\")\n",
    "print(f\"Accuracy: {num_correct / num_total:.2f}\")"
   ]
  },
  {
   "cell_type": "code",
   "execution_count": 13,
=======
   "execution_count": 11,
>>>>>>> 6e1ac7bfd3084ee98e7d9886fab2dba77aca8d52
   "metadata": {},
   "outputs": [
    {
     "name": "stdout",
     "output_type": "stream",
     "text": [
      "Number of examples: 1308\n",
      "Gemma2_9B_ZeroShot_COT - MATH\n",
      "Number of correct examples: 55\n",
      "Number of incorrect examples: 1253\n",
      "Accuracy: 0.04\n"
     ]
    }
   ],
   "source": [
    "from datasets import load_from_disk\n",
    "\n",
    "dataset = load_from_disk(\"./completion_dataset_GSM8k_LLAMA3_8b_ZeroShot_COT_checkpoint\")\n",
    "\n",
    "print(f\"Number of examples: {len(dataset)}\")\n",
    "\n",
    "num_correct = len(dataset.filter(lambda example: example[\"label\"] == 1))\n",
    "num_total = len(dataset)\n",
    "\n",
    "print(\"Llama3-8b_ZeroShot_COT - GSM8k\")\n",
    "print(f\"Number of correct examples: {num_correct}\")\n",
    "print(f\"Number of incorrect examples: {num_total - num_correct}\")\n",
    "print(f\"Accuracy: {num_correct / num_total:.2f}\")"
   ]
  },
  {
   "cell_type": "code",
   "execution_count": 42,
   "metadata": {},
   "outputs": [
    {
     "data": {
      "text/plain": [
       "'\\ndataset = load_from_disk(\"./completion_dataset_MATH_Phi3_ZeroShot_COT_checkpoint\")\\n\\nprint(f\"Number of examples: {len(dataset)}\")\\n\\nnum_correct = len(dataset.filter(lambda example: example[\"label\"] == 1))\\nnum_total = len(dataset)\\n\\nprint(\"Phi3_ZeroShot_COT - MATH\")\\nprint(f\"Number of correct examples: {num_correct}\")\\nprint(f\"Number of incorrect examples: {num_total - num_correct}\")\\nprint(f\"Accuracy: {num_correct / num_total:.2f}\")\\n'"
      ]
     },
     "execution_count": 12,
     "metadata": {},
     "output_type": "execute_result"
    }
   ],
   "source": [
    "dataset = load_from_disk(\"./completion_dataset_GSM8k_Phi-3-mini-128k-instruct_ZeroShot_COT_checkpoint\")\n",
    "\n",
    "print(f\"Number of examples: {len(dataset)}\")\n",
    "\n",
    "num_correct = len(dataset.filter(lambda example: example[\"label\"] == 1))\n",
    "num_total = len(dataset)\n",
    "\n",
    "print(\"Phi3_ZeroShot_COT - MATH\")\n",
    "print(f\"Number of correct examples: {num_correct}\")\n",
    "print(f\"Number of incorrect examples: {num_total - num_correct}\")\n",
    "print(f\"Accuracy: {num_correct / num_total:.2f}\")\n"
   ]
  }
 ],
 "metadata": {
  "kernelspec": {
   "display_name": "Python 3 (ipykernel)",
   "language": "python",
   "name": "python3"
  },
  "language_info": {
   "codemirror_mode": {
    "name": "ipython",
    "version": 3
   },
   "file_extension": ".py",
   "mimetype": "text/x-python",
   "name": "python",
   "nbconvert_exporter": "python",
   "pygments_lexer": "ipython3",
   "version": "3.10.12"
  }
 },
 "nbformat": 4,
 "nbformat_minor": 2
}
