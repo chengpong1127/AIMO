{
 "cells": [
  {
   "cell_type": "markdown",
   "metadata": {},
   "source": [
    "# Stage2: Math dataset completion"
   ]
  },
  {
   "cell_type": "code",
   "execution_count": 2,
   "metadata": {},
   "outputs": [
    {
     "name": "stderr",
     "output_type": "stream",
     "text": [
      "`low_cpu_mem_usage` was None, now set to True since model is quantized.\n"
     ]
    },
    {
     "data": {
      "application/vnd.jupyter.widget-view+json": {
       "model_id": "323955a59e0042a491b6a622f566d163",
       "version_major": 2,
       "version_minor": 0
      },
      "text/plain": [
       "Loading checkpoint shards:   0%|          | 0/4 [00:00<?, ?it/s]"
      ]
     },
     "metadata": {},
     "output_type": "display_data"
    },
    {
     "name": "stderr",
     "output_type": "stream",
     "text": [
      "Special tokens have been added in the vocabulary, make sure the associated word embeddings are fine-tuned or trained.\n"
     ]
    }
   ],
   "source": [
    "import re\n",
    "from transformers import StoppingCriteria, StoppingCriteriaList\n",
    "from dataset_generator import generate_completion_dataset\n",
    "from dataset import get_MATH_dataset\n",
    "from utils import get_pipe\n",
    "\n",
    "model_path = \"meta-llama/Meta-Llama-3-8B-Instruct\"\n",
    "completion_prompt = \"{problem} \\nPlease reason step by step, and put your final answer within \\\\boxed{{}}.\\nApproach: \"\n",
    "dataset_save_path = \"dataset/completion_dataset_MATH_LLAMA3_8b_ZeroShot_COT\"\n",
    "\n",
    "dataset = get_MATH_dataset()\n",
    "pipe = get_pipe(model_path)\n",
    "class StoppingCriteriaSub(StoppingCriteria):\n",
    "    def __call__(self, input_ids, scores):\n",
    "        decoded_text = pipe.tokenizer.decode(input_ids[0], skip_special_tokens=True)\n",
    "        return re.search(r\"\\\\boxed\\{(.+)\\}\", decoded_text) is not None\n",
    "generate_kargs = {\n",
    "    \"max_new_tokens\": 2048,\n",
    "    \"do_sample\": True, \n",
    "    \"batch_size\": 4,\n",
    "    \"top_k\": 0.0,\n",
    "    \"top_p\": 1.0,\n",
    "    \"temperature\": 0.5,\n",
    "    \"stopping_criteria\" : StoppingCriteriaList([StoppingCriteriaSub()]),\n",
    "}\n",
    "def get_answer_from_output(text):\n",
    "    try:\n",
    "        result_output = re.findall(r\"\\\\boxed\\{(\\d+)\\}\", text)\n",
    "        return float(result_output[0])\n",
    "    except Exception:\n",
    "        return None"
   ]
  },
  {
   "cell_type": "code",
   "execution_count": 3,
   "metadata": {},
   "outputs": [
    {
     "name": "stdout",
     "output_type": "stream",
     "text": [
      "Resuming from index 3750\n"
     ]
    },
    {
     "data": {
      "application/vnd.jupyter.widget-view+json": {
       "model_id": "539a0b94bf5c4447a6967258db751a55",
       "version_major": 2,
       "version_minor": 0
      },
      "text/plain": [
       "Generating completions:   0%|          | 0/421 [00:00<?, ?it/s]"
      ]
     },
     "metadata": {},
     "output_type": "display_data"
    },
    {
     "name": "stderr",
     "output_type": "stream",
     "text": [
      "You seem to be using the pipelines sequentially on GPU. In order to maximize efficiency please use a dataset\n"
     ]
    }
   ],
   "source": [
    "completion_dataset = generate_completion_dataset(\n",
    "    pipe=pipe,\n",
    "    dataset=dataset,\n",
    "    prompt=completion_prompt,\n",
    "    extract_answer_function=get_answer_from_output,\n",
    "    generate_kwargs=generate_kargs,\n",
    "    generate_count_per_problem=1,\n",
    "    checkpoint_path=\"_\".join([dataset_save_path, \"checkpoint\"]),\n",
    ")\n",
    "completion_dataset.save_to_disk(dataset_save_path)"
   ]
  }
 ],
 "metadata": {
  "kernelspec": {
   "display_name": ".venv",
   "language": "python",
   "name": "python3"
  },
  "language_info": {
   "codemirror_mode": {
    "name": "ipython",
    "version": 3
   },
   "file_extension": ".py",
   "mimetype": "text/x-python",
   "name": "python",
   "nbconvert_exporter": "python",
   "pygments_lexer": "ipython3",
   "version": "3.10.12"
  }
 },
 "nbformat": 4,
 "nbformat_minor": 2
}
