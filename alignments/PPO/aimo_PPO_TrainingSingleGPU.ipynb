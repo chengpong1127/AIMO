{
 "cells": [
  {
   "cell_type": "code",
   "execution_count": null,
   "metadata": {},
   "outputs": [],
   "source": [
    "!rm -rf models/checkpoints"
   ]
  },
  {
   "cell_type": "code",
   "execution_count": null,
   "metadata": {},
   "outputs": [],
   "source": [
    "from aimoppo import AIMOPPOTrainer\n",
    "from datasets import load_dataset, Dataset\n",
    "import re"
   ]
  },
  {
   "cell_type": "code",
   "execution_count": null,
   "metadata": {},
   "outputs": [],
   "source": [
    "dataset = load_dataset(\"json\", data_dir=\"data/MATH\")\n",
    "def is_real_number(text):\n",
    "    try:\n",
    "        float(text)\n",
    "        return True\n",
    "    except Exception:\n",
    "        return False\n",
    "def extract_answer(text):\n",
    "    try:\n",
    "        match = re.search(r\"\\\\boxed{(.+?)}\", text)\n",
    "        return match.group(1)\n",
    "    except Exception:\n",
    "        return None\n",
    "\n",
    "dataset_with_answer = dataset.map(lambda x: {\"problem\": x[\"problem\"], \"answer\": extract_answer(x[\"solution\"])})\n",
    "dataset_with_answer = dataset_with_answer.filter(lambda x: is_real_number(x[\"answer\"]))\n",
    "dataset_with_answer = dataset_with_answer.rename_column(\"problem\", \"query\")"
   ]
  },
  {
   "cell_type": "code",
   "execution_count": null,
   "metadata": {},
   "outputs": [],
   "source": [
    "train_dataset = dataset_with_answer['train']\n",
    "val_dataset = dataset_with_answer['test']\n",
    "\n",
    "test_dataset = Dataset.from_csv(\"data/val.csv\")\n",
    "test_dataset = test_dataset.rename_column(\"problem\", \"query\")\n",
    "test_dataset = test_dataset.remove_columns([\"id\"])\n",
    "\n",
    "train_dataset = train_dataset.shuffle()\n",
    "test_dataset = test_dataset.shuffle()\n",
    "\n",
    "train_dataset = train_dataset.select(range(1000))\n",
    "val_dataset = val_dataset.select(range(20))\n",
    "\n",
    "\n",
    "trainer = AIMOPPOTrainer(\n",
    "    \"configs/costar_cot_1shot.yaml\",\n",
    "    train_dataset,\n",
    "    val_dataset,\n",
    "    test_dataset,\n",
    ")\n"
   ]
  },
  {
   "cell_type": "code",
   "execution_count": null,
   "metadata": {},
   "outputs": [],
   "source": [
    "trainer.train()"
   ]
  }
 ],
 "metadata": {
  "kernelspec": {
   "display_name": "Python 3 (ipykernel)",
   "language": "python",
   "name": "python3"
  },
  "language_info": {
   "codemirror_mode": {
    "name": "ipython",
    "version": 3
   },
   "file_extension": ".py",
   "mimetype": "text/x-python",
   "name": "python",
   "nbconvert_exporter": "python",
   "pygments_lexer": "ipython3",
   "version": "3.10.12"
  }
 },
 "nbformat": 4,
 "nbformat_minor": 2
}
