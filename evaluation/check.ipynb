{
 "cells": [
  {
   "cell_type": "code",
   "execution_count": 1,
   "metadata": {},
   "outputs": [
    {
     "name": "stdout",
     "output_type": "stream",
     "text": [
      "2771\n",
      "Number of correct predictions: 170\n",
      "Accuracy: 0.06\n"
     ]
    }
   ],
   "source": [
    "from datasets import load_from_disk\n",
    "\n",
    "dataset = load_from_disk(\"./eval\")\n",
    "\n",
    "len_dataset = len(dataset)\n",
    "num_correct = 0\n",
    "print(len(dataset))\n",
    "\n",
    "# Calculate the number of correct predictions\n",
    "for i in range(len_dataset):\n",
    "    if dataset[i][\"label\"] == True:\n",
    "        num_correct += 1\n",
    "        \n",
    "# Calculate the accuracy\n",
    "print(f\"Number of correct predictions: {num_correct}\")\n",
    "print(f\"Accuracy: {round(num_correct / len_dataset, 2)}\")"
   ]
  }
 ],
 "metadata": {
  "kernelspec": {
   "display_name": ".venv",
   "language": "python",
   "name": "python3"
  },
  "language_info": {
   "codemirror_mode": {
    "name": "ipython",
    "version": 3
   },
   "file_extension": ".py",
   "mimetype": "text/x-python",
   "name": "python",
   "nbconvert_exporter": "python",
   "pygments_lexer": "ipython3",
   "version": "3.10.12"
  }
 },
 "nbformat": 4,
 "nbformat_minor": 2
}
