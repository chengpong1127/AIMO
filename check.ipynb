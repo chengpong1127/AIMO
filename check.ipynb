{
 "cells": [
  {
   "cell_type": "code",
   "execution_count": 1,
   "metadata": {},
   "outputs": [],
   "source": [
    "from datasets import load_from_disk\n",
    "completion_path = \"dataset/completion_dataset_MATH_LLAMA3_8b_ZeroShot_COT\"\n",
    "corrective_path = \"dataset/corrective_dataset_MATH_LLAMA3_8b_ZeroShot_COT_checkpoint\"\n",
    "corrective_copy_path = \"dataset/corrective_copy_dataset_MATH_LLAMA3_8b_ZeroShot_COT\"\n",
    "\n",
    "completion_dataset = load_from_disk(completion_path)\n",
    "corrective_dataset = load_from_disk(corrective_path)\n",
    "corrective_copy_dataset = load_from_disk(corrective_copy_path)"
   ]
  },
  {
   "cell_type": "code",
   "execution_count": 7,
   "metadata": {},
   "outputs": [
    {
     "data": {
      "application/vnd.jupyter.widget-view+json": {
       "model_id": "75819aa42c80475ba4bc4659b7b15f35",
       "version_major": 2,
       "version_minor": 0
      },
      "text/plain": [
       "Downloading readme:   0%|          | 0.00/472 [00:00<?, ?B/s]"
      ]
     },
     "metadata": {},
     "output_type": "display_data"
    },
    {
     "data": {
      "application/vnd.jupyter.widget-view+json": {
       "model_id": "7e5227ee6a8c42b7920e2cf70ee0ca93",
       "version_major": 2,
       "version_minor": 0
      },
      "text/plain": [
       "Downloading data:   0%|          | 0.00/2.08M [00:00<?, ?B/s]"
      ]
     },
     "metadata": {},
     "output_type": "display_data"
    },
    {
     "data": {
      "application/vnd.jupyter.widget-view+json": {
       "model_id": "69e2f37c8c5646a699ebecab600f3f8a",
       "version_major": 2,
       "version_minor": 0
      },
      "text/plain": [
       "Generating train split:   0%|          | 0/4171 [00:00<?, ? examples/s]"
      ]
     },
     "metadata": {},
     "output_type": "display_data"
    }
   ],
   "source": [
    "from datasets import load_dataset\n",
    "\n",
    "completion_dataset = load_dataset(\"altas-ai/completion_dataset_MATH_LLAMA3_8b_ZeroShot_COT\")"
   ]
  }
 ],
 "metadata": {
  "kernelspec": {
   "display_name": ".venv",
   "language": "python",
   "name": "python3"
  },
  "language_info": {
   "codemirror_mode": {
    "name": "ipython",
    "version": 3
   },
   "file_extension": ".py",
   "mimetype": "text/x-python",
   "name": "python",
   "nbconvert_exporter": "python",
   "pygments_lexer": "ipython3",
   "version": "3.10.12"
  }
 },
 "nbformat": 4,
 "nbformat_minor": 2
}
