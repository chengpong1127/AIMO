{
 "cells": [
  {
   "cell_type": "code",
   "execution_count": 1,
   "metadata": {},
   "outputs": [],
   "source": [
    "model_name = \"meta-llama/Meta-Llama-3-8B-Instruct\"\n",
    "text_env_tools = []\n",
    "prompt_path = \"prompts/costar_cot_1shot.txt\"\n",
    "dataset_path = \"data/MATH_DPO_COT\"\n",
    "checkpoint_path = \"checkpoint.yaml\"\n",
    "\n",
    "prompt = open(prompt_path, \"r\").read()"
   ]
  },
  {
   "cell_type": "code",
   "execution_count": 2,
   "metadata": {},
   "outputs": [],
   "source": [
    "from transformers import AutoModelForCausalLM, AutoTokenizer, BitsAndBytesConfig\n",
    "import torch\n",
    "from datasets import load_dataset, Dataset\n",
    "import re\n",
    "from tqdm.auto import tqdm\n",
    "import os\n",
    "import yaml"
   ]
  },
  {
   "cell_type": "code",
   "execution_count": 3,
   "metadata": {},
   "outputs": [
    {
     "name": "stderr",
     "output_type": "stream",
     "text": [
      "/usr/local/lib/python3.10/dist-packages/huggingface_hub/file_download.py:1132: FutureWarning: `resume_download` is deprecated and will be removed in version 1.0.0. Downloads always resume when possible. If you want to force a new download, use `force_download=True`.\n",
      "  warnings.warn(\n"
     ]
    },
    {
     "data": {
      "application/vnd.jupyter.widget-view+json": {
       "model_id": "f822dc89af0a4ea1a7ab99db0414cc12",
       "version_major": 2,
       "version_minor": 0
      },
      "text/plain": [
       "Loading checkpoint shards:   0%|          | 0/4 [00:00<?, ?it/s]"
      ]
     },
     "metadata": {},
     "output_type": "display_data"
    },
    {
     "name": "stderr",
     "output_type": "stream",
     "text": [
      "/usr/local/lib/python3.10/dist-packages/huggingface_hub/file_download.py:1132: FutureWarning: `resume_download` is deprecated and will be removed in version 1.0.0. Downloads always resume when possible. If you want to force a new download, use `force_download=True`.\n",
      "  warnings.warn(\n",
      "Special tokens have been added in the vocabulary, make sure the associated word embeddings are fine-tuned or trained.\n"
     ]
    }
   ],
   "source": [
    "bnb_config = BitsAndBytesConfig(\n",
    "    load_in_4bit=True,\n",
    "    bnb_4bit_quant_type=\"nf4\",\n",
    "    bnb_4bit_use_double_quant=True,\n",
    "    bnb_4bit_compute_dtype=torch.bfloat16,\n",
    "    bnb_4bit_quant_storage=torch.bfloat16,\n",
    ")\n",
    "model = AutoModelForCausalLM.from_pretrained(\n",
    "    model_name,\n",
    "    quantization_config=bnb_config,\n",
    "    low_cpu_mem_usage=True,\n",
    ")\n",
    "\n",
    "\n",
    "tokenizer = AutoTokenizer.from_pretrained(model_name, padding_side=\"left\")\n",
    "tokenizer.pad_token = tokenizer.eos_token"
   ]
  },
  {
   "cell_type": "code",
   "execution_count": 4,
   "metadata": {},
   "outputs": [],
   "source": [
    "def generate(input_texts: list[str]):\n",
    "    inputs = tokenizer(\n",
    "        input_texts, return_tensors=\"pt\", padding=True, truncation=False\n",
    "    ).to(model.device)\n",
    "    outputs = model.generate(\n",
    "        **inputs, max_new_tokens=512, pad_token_id=tokenizer.eos_token_id\n",
    "    )\n",
    "    output_texts = tokenizer.batch_decode(outputs, skip_special_tokens=True)\n",
    "    return [output[len(input) :] for input, output in zip(input_texts, output_texts)]"
   ]
  },
  {
   "cell_type": "code",
   "execution_count": 5,
   "metadata": {},
   "outputs": [
    {
     "data": {
      "application/vnd.jupyter.widget-view+json": {
       "model_id": "fa22de5415d54d25a246671f4f44a352",
       "version_major": 2,
       "version_minor": 0
      },
      "text/plain": [
       "Resolving data files:   0%|          | 0/7500 [00:00<?, ?it/s]"
      ]
     },
     "metadata": {},
     "output_type": "display_data"
    },
    {
     "data": {
      "application/vnd.jupyter.widget-view+json": {
       "model_id": "bc4779acfd154a00a224dbd8d49527bb",
       "version_major": 2,
       "version_minor": 0
      },
      "text/plain": [
       "Resolving data files:   0%|          | 0/5000 [00:00<?, ?it/s]"
      ]
     },
     "metadata": {},
     "output_type": "display_data"
    }
   ],
   "source": [
    "dataset = load_dataset(\"json\", data_dir=\"data/MATH\")\n",
    "\n",
    "\n",
    "def is_real_number(text):\n",
    "    try:\n",
    "        float(text)\n",
    "        return True\n",
    "    except Exception:\n",
    "        return False\n",
    "\n",
    "\n",
    "def extract_answer(text):\n",
    "    try:\n",
    "        match = re.search(r\"\\\\boxed{(.+?)}\", text)\n",
    "        return match.group(1)\n",
    "    except Exception:\n",
    "        return None\n",
    "\n",
    "\n",
    "dataset_with_answer = dataset.map(\n",
    "    lambda x: {\"problem\": x[\"problem\"], \"answer\": extract_answer(x[\"solution\"])}\n",
    ")\n",
    "dataset_with_answer = dataset_with_answer.filter(lambda x: is_real_number(x[\"answer\"]))\n",
    "dataset_with_answer = dataset_with_answer.filter(lambda x: len(x[\"problem\"]) < 500)\n",
    "dataset_with_answer = dataset_with_answer.rename_column(\"problem\", \"query\")"
   ]
  },
  {
   "cell_type": "code",
   "execution_count": 6,
   "metadata": {},
   "outputs": [
    {
     "data": {
      "text/plain": [
       "DatasetDict({\n",
       "    train: Dataset({\n",
       "        features: ['query', 'level', 'type', 'solution', 'answer'],\n",
       "        num_rows: 4567\n",
       "    })\n",
       "    test: Dataset({\n",
       "        features: ['query', 'level', 'type', 'solution', 'answer'],\n",
       "        num_rows: 3068\n",
       "    })\n",
       "})"
      ]
     },
     "execution_count": 6,
     "metadata": {},
     "output_type": "execute_result"
    }
   ],
   "source": [
    "dataset_with_answer"
   ]
  },
  {
   "cell_type": "code",
   "execution_count": 7,
   "metadata": {},
   "outputs": [],
   "source": [
    "import numpy as np\n",
    "\n",
    "\n",
    "def _exact_match_reward(responses, answers):\n",
    "    \"\"\"Reward if generated response contains correct answer.\"\"\"\n",
    "    rewards = []\n",
    "    for response, answer in zip(responses, answers):\n",
    "        reward = 0.0\n",
    "        predicted_number = _get_answer(response)\n",
    "        if predicted_number is not None:\n",
    "            if np.abs(predicted_number - float(answer)) < 0.1:\n",
    "                reward += 1.0\n",
    "        else:\n",
    "            reward = 0.0\n",
    "        rewards.append(reward)\n",
    "    return rewards\n",
    "\n",
    "\n",
    "def _get_answer(response):\n",
    "    try:\n",
    "        pattern = r\"Result\\s*=\\s*(-?\\d+(?:\\.\\d+)?)\\s*<submit>\"\n",
    "        match_pattern = re.findall(pattern, response)\n",
    "        if match_pattern:\n",
    "            return float(match_pattern[0])\n",
    "        else:\n",
    "            return None\n",
    "    except Exception:\n",
    "        return None"
   ]
  },
  {
   "cell_type": "code",
   "execution_count": 8,
   "metadata": {},
   "outputs": [
    {
     "data": {
      "application/vnd.jupyter.widget-view+json": {
       "model_id": "c26b07aa6d994c6098a9b66c0e2577a2",
       "version_major": 2,
       "version_minor": 0
      },
      "text/plain": [
       "  0%|          | 0/201 [00:00<?, ?it/s]"
      ]
     },
     "metadata": {},
     "output_type": "display_data"
    }
   ],
   "source": [
    "prompts = []\n",
    "chosen = []\n",
    "rejected = []\n",
    "\n",
    "batch_size = 12\n",
    "try_count = 10\n",
    "\n",
    "\n",
    "start_index = 0\n",
    "if os.path.exists(checkpoint_path):\n",
    "    with open(checkpoint_path, \"r\") as f:\n",
    "        checkpoint = yaml.safe_load(f)\n",
    "        start_index = checkpoint.get(\"start_index\", 0)\n",
    "        prompts = checkpoint.get(\"prompts\", [])\n",
    "        chosen = checkpoint.get(\"chosen\", [])\n",
    "        rejected = checkpoint.get(\"rejected\", [])\n",
    "\n",
    "for i in tqdm(range(start_index, len(dataset_with_answer[\"train\"]), batch_size)):\n",
    "    correct_answer = [None] * batch_size\n",
    "    wrong_answer = [None] * batch_size\n",
    "    batch_rows = dataset_with_answer[\"train\"][i : i + batch_size]\n",
    "    batch_inputs = [prompt + query for query in batch_rows[\"query\"]]\n",
    "\n",
    "    for j in range(try_count):\n",
    "        responses = generate(batch_inputs)\n",
    "        batch_reward = _exact_match_reward(responses, batch_rows[\"answer\"])\n",
    "        for k, reward in enumerate(batch_reward):\n",
    "            if reward > 0:\n",
    "                correct_answer[k] = responses[k]\n",
    "            else:\n",
    "                wrong_answer[k] = responses[k]\n",
    "\n",
    "        if all(x is not None for x in correct_answer) and all(\n",
    "            x is not None for x in wrong_answer\n",
    "        ):\n",
    "            break\n",
    "\n",
    "    for k, row in enumerate(batch_rows):\n",
    "        if correct_answer[k] is not None and wrong_answer[k] is not None:\n",
    "            prompts.append(batch_inputs[k])\n",
    "            chosen.append(correct_answer[k])\n",
    "            rejected.append(wrong_answer[k])\n",
    "\n",
    "    checkpoint = {\n",
    "        \"start_index\": i + batch_size,\n",
    "        \"prompts\": prompts,\n",
    "        \"chosen\": chosen,\n",
    "        \"rejected\": rejected,\n",
    "    }\n",
    "    with open(checkpoint_path, \"w\") as f:\n",
    "        yaml.safe_dump(checkpoint, f)\n",
    "\n",
    "new_dataset = Dataset.from_dict(\n",
    "    {\"prompt\": prompts, \"chosen\": chosen, \"rejected\": rejected}\n",
    ")\n",
    "os.makedirs(dataset_path, exist_ok=True)\n",
    "\n",
    "new_dataset.save_to_disk(dataset_path)\n",
    "\n",
    "if os.path.exists(checkpoint_path):\n",
    "    os.remove(checkpoint_path)"
   ]
  }
 ],
 "metadata": {
  "kernelspec": {
   "display_name": "Python 3",
   "language": "python",
   "name": "python3"
  },
  "language_info": {
   "codemirror_mode": {
    "name": "ipython",
    "version": 3
   },
   "file_extension": ".py",
   "mimetype": "text/x-python",
   "name": "python",
   "nbconvert_exporter": "python",
   "pygments_lexer": "ipython3",
   "version": "3.10.12"
  }
 },
 "nbformat": 4,
 "nbformat_minor": 2
}
